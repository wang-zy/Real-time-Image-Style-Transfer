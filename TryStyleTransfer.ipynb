{
 "cells": [
  {
   "cell_type": "code",
   "execution_count": 4,
   "metadata": {
    "collapsed": true
   },
   "outputs": [],
   "source": [
    "import torch\n",
    "import torchvision.models as models\n",
    "import numpy as np\n",
    "from torch.autograd import Variable\n",
    "import torch.nn as nn\n",
    "import torch.nn.functional as F\n",
    "from PIL import Image\n",
    "from torchvision import transforms\n",
    "import glob\n",
    "from torch.utils.data.dataset import Dataset"
   ]
  },
  {
   "cell_type": "code",
   "execution_count": 19,
   "metadata": {
    "collapsed": false
   },
   "outputs": [],
   "source": [
    "class COCODataset(Dataset):\n",
    "    def __init__(self, path, transform):\n",
    "        self.images = glob.glob(path)\n",
    "        self.transform = transform\n",
    "    def __getitem__(self, index):\n",
    "        fname = self.images[index]\n",
    "        img = Image.open(fname)\n",
    "        return self.transform(img)\n",
    "    def __len__(self):\n",
    "        return len(self.images)"
   ]
  },
  {
   "cell_type": "code",
   "execution_count": 20,
   "metadata": {
    "collapsed": false
   },
   "outputs": [],
   "source": [
    "transform = transforms.Compose([transforms.ToTensor(), transforms.Normalize((0.47, 0.45, 0.4), (0.24, 0.24, 0.24))])\n",
    "dataset = COCODataset('Dataset/PreData/*.jpg', transform)\n",
    "loader = torch.utils.data.DataLoader(dataset, batch_size=4, shuffle=True, num_workers=4)"
   ]
  },
  {
   "cell_type": "code",
   "execution_count": 35,
   "metadata": {
    "collapsed": false
   },
   "outputs": [
    {
     "name": "stdout",
     "output_type": "stream",
     "text": [
      "0 torch.Size([4, 3, 256, 256])\n",
      "1 torch.Size([4, 3, 256, 256])\n",
      "2 torch.Size([4, 3, 256, 256])\n",
      "3 torch.Size([4, 3, 256, 256])\n",
      "4 torch.Size([4, 3, 256, 256])\n",
      "5 torch.Size([4, 3, 256, 256])\n"
     ]
    }
   ],
   "source": [
    "for i, data in enumerate(loader):\n",
    "    print i, data.shape\n",
    "    data = Variable(data, requires_grad=False)\n",
    "    ViewImage(data[2,:,:,:])\n",
    "    if i > 4:\n",
    "        break"
   ]
  },
  {
   "cell_type": "code",
   "execution_count": 30,
   "metadata": {
    "collapsed": true
   },
   "outputs": [],
   "source": [
    "def ViewImage(Data):\n",
    "    # convert torch tensor back into image and view it\n",
    "    data = torch.squeeze(Data.data)\n",
    "    f = transforms.ToPILImage()\n",
    "    img = f(data)\n",
    "    img.show()"
   ]
  },
  {
   "cell_type": "code",
   "execution_count": null,
   "metadata": {
    "collapsed": true
   },
   "outputs": [],
   "source": [
    "def Gram(Fmap):\n",
    "    # calculate Gram matrix from feature map\n",
    "    f = Fmap.squeeze()\n",
    "    numFeatures = f.size()[0]\n",
    "    W = f.size()[1]\n",
    "    H = f.size()[2]\n",
    "    f = f.view(numFeatures, W*H)\n",
    "    return torch.mm(f, torch.t(f)) / (numFeatures*W*H)"
   ]
  },
  {
   "cell_type": "code",
   "execution_count": null,
   "metadata": {
    "collapsed": true
   },
   "outputs": [],
   "source": [
    "# load pretrained VGG16 network\n",
    "vgg = models.vgg16(True)\n",
    "vgg_conv = vgg.features[0]\n",
    "for paras in vgg_conv.parameters():\n",
    "    paras.requires_grad = False"
   ]
  },
  {
   "cell_type": "code",
   "execution_count": null,
   "metadata": {
    "collapsed": true
   },
   "outputs": [],
   "source": [
    "def StyleLoss(input1, input2):\n",
    "    Loss = Variable(torch.zeros(1))\n",
    "    layers = [0, 2, 5, 7]\n",
    "    for i in range(max(layers)+1):\n",
    "        layer = vgg.features[i]\n",
    "        input1 = layer(input1.clone())\n",
    "        input2 = layer(input2.clone())\n",
    "        if i in layers:\n",
    "            Loss = Loss + torch.sum((Gram(input1) - Gram(input2))**2)\n",
    "    return Loss"
   ]
  },
  {
   "cell_type": "code",
   "execution_count": null,
   "metadata": {
    "collapsed": true
   },
   "outputs": [],
   "source": [
    "class Res(nn.Module):\n",
    "    def __init__(self, numChannels):\n",
    "        super(Res, self).__init__()\n",
    "        self.conv1 = nn.Conv2d(numChannels, numChannels, 3, stride=1, padding=1)\n",
    "        self.bn1 = nn.BatchNorm2d(numChannels)\n",
    "        self.relu = nn.ReLU()\n",
    "        self.conv2 = nn.Conv2d(numChannels, numChannels, 3, stride=1, padding=1)\n",
    "        self.bn2 = nn.BatchNorm2d(numChannels)\n",
    "    def forward(self, x):\n",
    "        residual = x\n",
    "        output = self.bn2(self.conv2(self.relu(self.bn1(self.conv1(x)))))\n",
    "        return residual + output"
   ]
  },
  {
   "cell_type": "code",
   "execution_count": null,
   "metadata": {
    "collapsed": true
   },
   "outputs": [],
   "source": [
    "class ContentNet(nn.Module):\n",
    "    def __init__(self):\n",
    "        super(ContentNet, self).__init__()\n",
    "        self.pad = nn.ReflectionPad2d(4)\n",
    "        self.conv1 = nn.Conv2d(3, 32, 9, stride=1)\n",
    "        self.conv2 = nn.Conv2d(32, 64, 3, stride=2)\n",
    "        self.conv3 = nn.Conv2d(64, 128, 3, stride=2, padding=1)\n",
    "        self.res1 = Res(128)\n",
    "        self.res2 = Res(128)\n",
    "        self.res3 = Res(128)\n",
    "        self.res4 = Res(128)\n",
    "        self.res5 = Res(128)\n",
    "        self.deconv1 = nn.ConvTranspose2d(128, 64, 3, stride=2, padding=1, output_padding=1)\n",
    "        self.deconv2 = nn.ConvTranspose2d(64, 32, 3, stride=2, padding=1, output_padding=1)\n",
    "        self.conv4 = nn.Conv2d(32, 3, 9, stride=1, padding=4)\n",
    "    def forward(self, x):\n",
    "        x = self.conv3(self.conv2(self.conv1(self.pad(x))))\n",
    "        x = self.res5(self.res4(self.res3(self.res2(self.res1(x)))))\n",
    "        x = self.conv4(self.deconv2(self.deconv1(x)))\n",
    "        return (F.tanh(x) + 1)/2"
   ]
  },
  {
   "cell_type": "code",
   "execution_count": null,
   "metadata": {
    "collapsed": false
   },
   "outputs": [],
   "source": [
    "# load content image and style image\n",
    "content_data = LoadImage('van.jpg')\n",
    "style_data = LoadImage('van.jpg')"
   ]
  },
  {
   "cell_type": "code",
   "execution_count": null,
   "metadata": {
    "collapsed": true
   },
   "outputs": [],
   "source": [
    "random_data = Variable(torch.randn(1, 3, 256, 256))"
   ]
  },
  {
   "cell_type": "code",
   "execution_count": null,
   "metadata": {
    "collapsed": false
   },
   "outputs": [],
   "source": [
    "raw_vgg_feature = vgg_conv(content_data)\n",
    "loss_fn = nn.MSELoss()"
   ]
  },
  {
   "cell_type": "code",
   "execution_count": null,
   "metadata": {
    "collapsed": true
   },
   "outputs": [],
   "source": [
    "contentnet = ContentNet()"
   ]
  },
  {
   "cell_type": "code",
   "execution_count": null,
   "metadata": {
    "collapsed": false,
    "scrolled": true
   },
   "outputs": [],
   "source": [
    "optimizer = torch.optim.Adam(contentnet.parameters(), lr=1e-3)\n",
    "best_loss = 0.00223590899258852\n",
    "alpha = 1\n",
    "for i in range(50000):\n",
    "    x = content_data\n",
    "    y_pred = contentnet(x)\n",
    "#     loss1 = loss_fn(vgg_conv(y_pred), raw_vgg_feature)\n",
    "    loss2 = StyleLoss(contentnet(x), style_data)\n",
    "#     loss = loss1 + loss2 * alpha\n",
    "    loss = loss2\n",
    "    if i % 5 == 0:\n",
    "        if loss.data[0] < best_loss:\n",
    "            best_loss = loss.data[0]\n",
    "            torch.save(contentnet, 'Best_model_Res.dat')\n",
    "#         print(i, loss1.data[0], loss2.data[0], loss.data[0])\n",
    "        print(i, loss.data[0])\n",
    "    optimizer.zero_grad()\n",
    "    loss.backward()\n",
    "    optimizer.step()"
   ]
  },
  {
   "cell_type": "code",
   "execution_count": null,
   "metadata": {
    "collapsed": false
   },
   "outputs": [],
   "source": [
    "ViewImage(contentnet(content_data))\n",
    "ViewImage(content_data)\n",
    "ViewImage(style_data)"
   ]
  },
  {
   "cell_type": "code",
   "execution_count": null,
   "metadata": {
    "collapsed": true
   },
   "outputs": [],
   "source": []
  }
 ],
 "metadata": {
  "anaconda-cloud": {},
  "kernelspec": {
   "display_name": "Python [default]",
   "language": "python",
   "name": "python2"
  },
  "language_info": {
   "codemirror_mode": {
    "name": "ipython",
    "version": 2
   },
   "file_extension": ".py",
   "mimetype": "text/x-python",
   "name": "python",
   "nbconvert_exporter": "python",
   "pygments_lexer": "ipython2",
   "version": "2.7.12"
  }
 },
 "nbformat": 4,
 "nbformat_minor": 1
}
