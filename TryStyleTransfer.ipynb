{
 "cells": [
  {
   "cell_type": "code",
   "execution_count": null,
   "metadata": {
    "collapsed": true
   },
   "outputs": [],
   "source": [
    "import torch\n",
    "import torchvision.models as models\n",
    "import numpy as np\n",
    "from torch.autograd import Variable\n",
    "import torch.nn as nn\n",
    "import torch.nn.functional as F\n",
    "from PIL import Image\n",
    "from torchvision import transforms\n",
    "import glob\n",
    "from torch.utils.data.dataset import Dataset"
   ]
  },
  {
   "cell_type": "code",
   "execution_count": null,
   "metadata": {
    "collapsed": false
   },
   "outputs": [],
   "source": [
    "class COCODataset(Dataset):\n",
    "    def __init__(self, path, transform):\n",
    "        self.images = glob.glob(path)\n",
    "        self.transform = transform\n",
    "    def __getitem__(self, index):\n",
    "        fname = self.images[index]\n",
    "        img = Image.open(fname)\n",
    "        return self.transform(img)\n",
    "    def __len__(self):\n",
    "        return len(self.images)"
   ]
  },
  {
   "cell_type": "code",
   "execution_count": null,
   "metadata": {
    "collapsed": true
   },
   "outputs": [],
   "source": [
    "transform = transforms.Compose([transforms.ToTensor(), transforms.Normalize((0.47, 0.45, 0.4), (0.24, 0.24, 0.24))])\n",
    "dataset = COCODataset('Dataset/PreData/*.jpg', transform)\n",
    "loader = torch.utils.data.DataLoader(dataset, batch_size=4, shuffle=True, num_workers=1)"
   ]
  },
  {
   "cell_type": "code",
   "execution_count": null,
   "metadata": {
    "collapsed": true
   },
   "outputs": [],
   "source": [
    "def LoadImage(fname):\n",
    "    # load image and convert to tensor wrapped in a variable\n",
    "    loader = transforms.Compose([transforms.Scale((256, 256)), transforms.ToTensor()])\n",
    "    image = Image.open(fname)\n",
    "    data = loader(image)\n",
    "    data = Variable(data, requires_grad=False)\n",
    "    data = data.unsqueeze(0)\n",
    "    return data"
   ]
  },
  {
   "cell_type": "code",
   "execution_count": null,
   "metadata": {
    "collapsed": true
   },
   "outputs": [],
   "source": [
    "def ViewImage(Data):\n",
    "    # convert torch tensor back into image and view it\n",
    "    data = torch.squeeze(Data.data)\n",
    "    f = transforms.ToPILImage()\n",
    "    img = f(data)\n",
    "    img.show()"
   ]
  },
  {
   "cell_type": "code",
   "execution_count": null,
   "metadata": {
    "collapsed": true
   },
   "outputs": [],
   "source": [
    "def Gram(Fmap):\n",
    "    # calculate Gram matrix from feature map\n",
    "    numImages = Fmap.size()[0]\n",
    "    numFeatures = Fmap.size()[1]\n",
    "    W = Fmap.size()[2]\n",
    "    H = Fmap.size()[3]\n",
    "    Fmap = Fmap.view(numImages, numFeatures, W*H)\n",
    "    return torch.bmm(Fmap, Fmap.transpose(1,2)) / (numImages*numFeatures*W*H)"
   ]
  },
  {
   "cell_type": "code",
   "execution_count": null,
   "metadata": {
    "collapsed": false
   },
   "outputs": [],
   "source": [
    "# load pretrained VGG16 network\n",
    "vgg = models.vgg16(True)\n",
    "for paras in vgg.parameters():\n",
    "    paras.requires_grad = False"
   ]
  },
  {
   "cell_type": "code",
   "execution_count": null,
   "metadata": {
    "collapsed": true
   },
   "outputs": [],
   "source": [
    "def StyleGram(style):\n",
    "    Style_layers = [3, 8, 15, 22]\n",
    "    style_gram = {}\n",
    "    for i in range(max(Style_layers)+1):\n",
    "        layer = vgg.features[i]\n",
    "        style = layer(style)\n",
    "        if i in Style_layers:\n",
    "            style_gram[i] = Gram(style)\n",
    "    return style_gram"
   ]
  },
  {
   "cell_type": "code",
   "execution_count": null,
   "metadata": {
    "collapsed": true
   },
   "outputs": [],
   "source": [
    "def TotalLoss(pred, content):\n",
    "    global Style_Gram\n",
    "    Loss = Variable(torch.zeros(1))\n",
    "    Style_layers = [3, 8, 15, 22]\n",
    "    Content_layer = 15\n",
    "    alpha = 1\n",
    "    for i in range(max(Style_layers)+1):\n",
    "        layer = vgg.features[i]\n",
    "        pred = layer(pred)\n",
    "        if i == Content_layer:\n",
    "            content = layer(content)\n",
    "            Loss = Loss + torch.sum((pred - content)**2) / np.prod(content.size())\n",
    "        elif i < Content_layer:\n",
    "            content = layer(content)\n",
    "        if i in Style_layers:\n",
    "            Loss = Loss + alpha * torch.sum((Gram(pred) - Style_Gram[i])**2)\n",
    "    return Loss"
   ]
  },
  {
   "cell_type": "code",
   "execution_count": null,
   "metadata": {
    "collapsed": true
   },
   "outputs": [],
   "source": [
    "def StyleLoss(input1, input2):\n",
    "    Loss = Variable(torch.zeros(1))\n",
    "    layers = [3, 8, 15, 22]\n",
    "    weights = [1, 1, 1, 1]\n",
    "    for i in range(max(layers)+1):\n",
    "        layer = vgg.features[i]\n",
    "        input1 = layer(input1)\n",
    "        input2 = layer(input2)\n",
    "        if i in layers:\n",
    "            Loss = Loss + torch.sum((Gram(input1) - Gram(input2))**2)\n",
    "    return Loss"
   ]
  },
  {
   "cell_type": "code",
   "execution_count": null,
   "metadata": {
    "collapsed": true
   },
   "outputs": [],
   "source": [
    "def ContentLoss(input1, input2):\n",
    "    num_layer = 15\n",
    "    for i in range(num_layer+1):\n",
    "        layer = vgg.features[i]\n",
    "        input1 = layer(input1)\n",
    "        input2 = layer(input2)\n",
    "    return torch.sum((input1 - input2)**2) / np.prod(input1.size())"
   ]
  },
  {
   "cell_type": "code",
   "execution_count": null,
   "metadata": {
    "collapsed": true
   },
   "outputs": [],
   "source": [
    "class Res(nn.Module):\n",
    "    def __init__(self, numChannels):\n",
    "        super(Res, self).__init__()\n",
    "        self.conv1 = nn.Conv2d(numChannels, numChannels, 3, stride=1, padding=1)\n",
    "        self.bn1 = nn.BatchNorm2d(numChannels)\n",
    "        self.relu = nn.ReLU()\n",
    "        self.conv2 = nn.Conv2d(numChannels, numChannels, 3, stride=1, padding=1)\n",
    "        self.bn2 = nn.BatchNorm2d(numChannels)\n",
    "    def forward(self, x):\n",
    "        residual = x\n",
    "        output = self.bn2(self.conv2(self.relu(self.bn1(self.conv1(x)))))\n",
    "        return residual + output"
   ]
  },
  {
   "cell_type": "code",
   "execution_count": null,
   "metadata": {
    "collapsed": true
   },
   "outputs": [],
   "source": [
    "class StyleNet(nn.Module):\n",
    "    def __init__(self):\n",
    "        super(StyleNet, self).__init__()\n",
    "        self.pad = nn.ReflectionPad2d(4)\n",
    "        self.conv1 = nn.Conv2d(3, 32, 9, stride=1)\n",
    "        self.conv2 = nn.Conv2d(32, 64, 3, stride=2)\n",
    "        self.conv3 = nn.Conv2d(64, 128, 3, stride=2, padding=1)\n",
    "        self.res1 = Res(128)\n",
    "        self.res2 = Res(128)\n",
    "        self.res3 = Res(128)\n",
    "        self.res4 = Res(128)\n",
    "        self.res5 = Res(128)\n",
    "        self.deconv1 = nn.ConvTranspose2d(128, 64, 3, stride=2, padding=1, output_padding=1)\n",
    "        self.deconv2 = nn.ConvTranspose2d(64, 32, 3, stride=2, padding=1, output_padding=1)\n",
    "        self.conv4 = nn.Conv2d(32, 3, 9, stride=1, padding=4)\n",
    "    def forward(self, x):\n",
    "        x = self.conv3(self.conv2(self.conv1(self.pad(x))))\n",
    "        x = self.res5(self.res4(self.res3(self.res2(self.res1(x)))))\n",
    "        x = self.conv4(self.deconv2(self.deconv1(x)))\n",
    "        return (F.tanh(x) + 1)/2"
   ]
  },
  {
   "cell_type": "code",
   "execution_count": null,
   "metadata": {
    "collapsed": false
   },
   "outputs": [],
   "source": [
    "# load content image and style image\n",
    "style_data = LoadImage('van.jpg')\n",
    "Style_Gram = StyleGram(style_data)"
   ]
  },
  {
   "cell_type": "code",
   "execution_count": null,
   "metadata": {
    "collapsed": true
   },
   "outputs": [],
   "source": [
    "stylenet = StyleNet()"
   ]
  },
  {
   "cell_type": "code",
   "execution_count": null,
   "metadata": {
    "collapsed": false,
    "scrolled": true
   },
   "outputs": [],
   "source": [
    "optimizer = torch.optim.Adam(stylenet.parameters(), lr=1e-3)\n",
    "best_loss = 1\n",
    "alpha = 1\n",
    "for j in range(2):\n",
    "    for i, content_data in enumerate(loader):\n",
    "        content_data = Variable(content_data)\n",
    "        y_pred = stylenet(content_data)\n",
    "#         content_loss = ContentLoss(y_pred, content_data)\n",
    "#         style_loss = StyleLoss(y_pred, style_data)\n",
    "#         loss = content_loss + style_loss * alpha\n",
    "        loss = TotalLoss(y_pred, content_data)\n",
    "#         if loss.data[0] < best_loss:\n",
    "#             best_loss = loss.data[0]\n",
    "#             torch.save(contentnet, 'Best_model_Res.dat')\n",
    "        print(i, loss.data[0])\n",
    "        optimizer.zero_grad()\n",
    "        loss.backward()\n",
    "        optimizer.step()"
   ]
  },
  {
   "cell_type": "code",
   "execution_count": null,
   "metadata": {
    "collapsed": false
   },
   "outputs": [],
   "source": [
    "ViewImage(stylenet(content_data))\n",
    "ViewImage(content_data)\n",
    "ViewImage(style_data)"
   ]
  },
  {
   "cell_type": "code",
   "execution_count": null,
   "metadata": {
    "collapsed": true
   },
   "outputs": [],
   "source": []
  }
 ],
 "metadata": {
  "anaconda-cloud": {},
  "kernelspec": {
   "display_name": "Python [default]",
   "language": "python",
   "name": "python2"
  },
  "language_info": {
   "codemirror_mode": {
    "name": "ipython",
    "version": 2
   },
   "file_extension": ".py",
   "mimetype": "text/x-python",
   "name": "python",
   "nbconvert_exporter": "python",
   "pygments_lexer": "ipython2",
   "version": "2.7.12"
  }
 },
 "nbformat": 4,
 "nbformat_minor": 1
}
